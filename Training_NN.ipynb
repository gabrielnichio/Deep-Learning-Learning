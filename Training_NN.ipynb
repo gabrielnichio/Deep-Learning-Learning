{
  "nbformat": 4,
  "nbformat_minor": 0,
  "metadata": {
    "colab": {
      "provenance": [],
      "gpuType": "T4",
      "authorship_tag": "ABX9TyOc1DH7gIzudqqlE0hVFy0b",
      "include_colab_link": true
    },
    "kernelspec": {
      "name": "python3",
      "display_name": "Python 3"
    },
    "language_info": {
      "name": "python"
    },
    "accelerator": "GPU"
  },
  "cells": [
    {
      "cell_type": "markdown",
      "metadata": {
        "id": "view-in-github",
        "colab_type": "text"
      },
      "source": [
        "<a href=\"https://colab.research.google.com/github/gabrielnichio/NN-training/blob/main/Training_NN.ipynb\" target=\"_parent\"><img src=\"https://colab.research.google.com/assets/colab-badge.svg\" alt=\"Open In Colab\"/></a>"
      ]
    },
    {
      "cell_type": "code",
      "execution_count": null,
      "metadata": {
        "id": "-mgmJ-SEwaJA"
      },
      "outputs": [],
      "source": [
        "import torch\n",
        "from torch import nn\n",
        "import matplotlib.pyplot as plt"
      ]
    },
    {
      "cell_type": "markdown",
      "source": [
        "## Alocating device to use CPU"
      ],
      "metadata": {
        "id": "oN3_14nt2dBP"
      }
    },
    {
      "cell_type": "code",
      "source": [
        "if torch.cuda.is_available():\n",
        "  device = torch.device('cuda')\n",
        "else:\n",
        "  device = torch.device('cpu')\n",
        "\n",
        "print(device)"
      ],
      "metadata": {
        "colab": {
          "base_uri": "https://localhost:8080/"
        },
        "id": "UtAyOdwYwfAb",
        "outputId": "82abd970-d511-4757-aab3-08d5a90e689f"
      },
      "execution_count": null,
      "outputs": [
        {
          "output_type": "stream",
          "name": "stdout",
          "text": [
            "cuda\n"
          ]
        }
      ]
    },
    {
      "cell_type": "markdown",
      "source": [
        "# Classification"
      ],
      "metadata": {
        "id": "BCF6qt4_22LO"
      }
    },
    {
      "cell_type": "markdown",
      "source": [
        "## Using sklearn wine dataset"
      ],
      "metadata": {
        "id": "A2HPorqP2hCK"
      }
    },
    {
      "cell_type": "code",
      "source": [
        "from sklearn import datasets\n",
        "\n",
        "wine = datasets.load_wine()\n",
        "data = wine.data\n",
        "target = wine.target\n",
        "\n",
        "print(data.shape, target.shape)\n",
        "print(wine.feature_names, wine.target_names)"
      ],
      "metadata": {
        "colab": {
          "base_uri": "https://localhost:8080/"
        },
        "id": "J-_Pza32w4HR",
        "outputId": "d34073f9-1d45-43dd-8e85-a519a3719957"
      },
      "execution_count": null,
      "outputs": [
        {
          "output_type": "stream",
          "name": "stdout",
          "text": [
            "(178, 13) (178,)\n",
            "['alcohol', 'malic_acid', 'ash', 'alcalinity_of_ash', 'magnesium', 'total_phenols', 'flavanoids', 'nonflavanoid_phenols', 'proanthocyanins', 'color_intensity', 'hue', 'od280/od315_of_diluted_wines', 'proline'] ['class_0' 'class_1' 'class_2']\n"
          ]
        }
      ]
    },
    {
      "cell_type": "markdown",
      "source": [
        "## Defining NN\n",
        "\n",
        "Inner layers with ReLU activation. Using softmax to give probability distribution on the output."
      ],
      "metadata": {
        "id": "BfIOUkFG2lNX"
      }
    },
    {
      "cell_type": "code",
      "source": [
        "class WineClassifier(nn.Module):\n",
        "  def __init__(self, input_size, hidden_size, output_size):\n",
        "    super(WineClassifier, self).__init__()\n",
        "\n",
        "    self.hidden = nn.Linear(input_size, hidden_size)\n",
        "    self.relu = nn.ReLU()\n",
        "    self.out = nn.Linear(hidden_size, output_size)\n",
        "    self.softmax = nn.Softmax()\n",
        "\n",
        "  def forward(self, X):\n",
        "    feature = self.relu(self.hidden(X))\n",
        "    output = self.softmax(self.out(feature))\n",
        "\n",
        "    return output"
      ],
      "metadata": {
        "id": "CL9aIdctxSN6"
      },
      "execution_count": null,
      "outputs": []
    },
    {
      "cell_type": "code",
      "source": [
        "input_size = data.shape[1]\n",
        "hidden_size = 32\n",
        "output_size = len(wine.target_names)\n",
        "\n",
        "wine_net = WineClassifier(input_size, hidden_size, output_size).to(device)\n",
        "\n",
        "wine_net = wine_net.to(device)"
      ],
      "metadata": {
        "id": "pFdGuURFz52_"
      },
      "execution_count": null,
      "outputs": []
    },
    {
      "cell_type": "code",
      "source": [
        "print(wine_net)"
      ],
      "metadata": {
        "colab": {
          "base_uri": "https://localhost:8080/"
        },
        "id": "TeOnh1UF0HsX",
        "outputId": "0c1ce4a7-452a-4639-ac05-b26ae32e8f9a"
      },
      "execution_count": null,
      "outputs": [
        {
          "output_type": "stream",
          "name": "stdout",
          "text": [
            "WineClassifier(\n",
            "  (hidden): Linear(in_features=13, out_features=32, bias=True)\n",
            "  (relu): ReLU()\n",
            "  (out): Linear(in_features=32, out_features=3, bias=True)\n",
            "  (softmax): Softmax(dim=None)\n",
            ")\n"
          ]
        }
      ]
    },
    {
      "cell_type": "markdown",
      "source": [
        "## Loss function\n",
        "\n",
        "Using Cross Entropy Loss."
      ],
      "metadata": {
        "id": "03GrALc_0gbx"
      }
    },
    {
      "cell_type": "code",
      "source": [
        "criterion = nn.CrossEntropyLoss().to(device)"
      ],
      "metadata": {
        "id": "fPPzl2P30UUD"
      },
      "execution_count": null,
      "outputs": []
    },
    {
      "cell_type": "code",
      "source": [
        "Xtns = torch.from_numpy(data).float()\n",
        "Ytns = torch.from_numpy(target)\n",
        "\n",
        "Xtns = Xtns.to(device)\n",
        "Ytns = Ytns.to(device)\n",
        "\n",
        "print(Xtns.dtype, Ytns.dtype)"
      ],
      "metadata": {
        "colab": {
          "base_uri": "https://localhost:8080/"
        },
        "id": "CMW7BFgK0tGx",
        "outputId": "f55e831c-b446-4910-9b1b-dcfde7ad7d4e"
      },
      "execution_count": null,
      "outputs": [
        {
          "output_type": "stream",
          "name": "stdout",
          "text": [
            "torch.float32 torch.int64\n"
          ]
        }
      ]
    },
    {
      "cell_type": "code",
      "source": [
        "pred = wine_net(Xtns)"
      ],
      "metadata": {
        "id": "w7FXEXCu1cLg",
        "colab": {
          "base_uri": "https://localhost:8080/"
        },
        "outputId": "7a4beaaa-9785-40f8-cb16-6d366aeed7ed"
      },
      "execution_count": null,
      "outputs": [
        {
          "output_type": "stream",
          "name": "stderr",
          "text": [
            "/usr/local/lib/python3.10/dist-packages/torch/nn/modules/module.py:1736: UserWarning: Implicit dimension choice for softmax has been deprecated. Change the call to include dim=X as an argument.\n",
            "  return self._call_impl(*args, **kwargs)\n"
          ]
        }
      ]
    },
    {
      "cell_type": "markdown",
      "source": [
        " The predictions and actual values may have different dimension when using Cross Entropy Loss for CLASSIFICATION."
      ],
      "metadata": {
        "id": "iMYPzK214lD8"
      }
    },
    {
      "cell_type": "code",
      "source": [
        "print(pred.shape, Ytns.shape)"
      ],
      "metadata": {
        "colab": {
          "base_uri": "https://localhost:8080/"
        },
        "id": "sitN4FCg1yXO",
        "outputId": "915b1b8f-0301-495e-8145-18673dda543a"
      },
      "execution_count": null,
      "outputs": [
        {
          "output_type": "stream",
          "name": "stdout",
          "text": [
            "torch.Size([178, 3]) torch.Size([178])\n"
          ]
        }
      ]
    },
    {
      "cell_type": "code",
      "source": [
        "loss = criterion(pred, Ytns)\n",
        "print(loss)"
      ],
      "metadata": {
        "colab": {
          "base_uri": "https://localhost:8080/"
        },
        "id": "RYFaNEBF10qR",
        "outputId": "679f8062-0b5d-4ba2-8d21-0edba1bac145"
      },
      "execution_count": null,
      "outputs": [
        {
          "output_type": "stream",
          "name": "stdout",
          "text": [
            "tensor(1.2200, device='cuda:0', grad_fn=<NllLossBackward0>)\n"
          ]
        }
      ]
    },
    {
      "cell_type": "markdown",
      "source": [
        "# Regression"
      ],
      "metadata": {
        "id": "5cim8W9024fa"
      }
    },
    {
      "cell_type": "markdown",
      "source": [
        "# Using sklearn diabetes dataset"
      ],
      "metadata": {
        "id": "rk_aDPLE28sM"
      }
    },
    {
      "cell_type": "code",
      "source": [
        "diabetes = datasets.load_diabetes()\n",
        "data = diabetes.data\n",
        "target = diabetes.target"
      ],
      "metadata": {
        "id": "LxEU0m8q3CNl"
      },
      "execution_count": null,
      "outputs": []
    },
    {
      "cell_type": "code",
      "source": [
        "print(data[0])\n",
        "print(target[0])"
      ],
      "metadata": {
        "colab": {
          "base_uri": "https://localhost:8080/"
        },
        "id": "tVrRFkq53SW4",
        "outputId": "d1a3dc8b-ff95-4e95-a44f-05b1c6444ed5"
      },
      "execution_count": null,
      "outputs": [
        {
          "output_type": "stream",
          "name": "stdout",
          "text": [
            "[ 0.03807591  0.05068012  0.06169621  0.02187239 -0.0442235  -0.03482076\n",
            " -0.04340085 -0.00259226  0.01990749 -0.01764613]\n",
            "151.0\n"
          ]
        }
      ]
    },
    {
      "cell_type": "code",
      "source": [
        "input_size = data.shape[1]\n",
        "hidden_size = 32\n",
        "output_size = 1\n",
        "\n",
        "net = WineClassifier(input_size, hidden_size, output_size).to(device)"
      ],
      "metadata": {
        "id": "JXvINBSi3gES"
      },
      "execution_count": null,
      "outputs": []
    },
    {
      "cell_type": "markdown",
      "source": [
        "## Loss function\n",
        "Using MSE Loss."
      ],
      "metadata": {
        "id": "OUcjT4B55IAO"
      }
    },
    {
      "cell_type": "markdown",
      "source": [
        "Predictions and actual values must have same dimensions when using MSE Loss for REGRESSION."
      ],
      "metadata": {
        "id": "g1dk2Sef47uW"
      }
    },
    {
      "cell_type": "code",
      "source": [
        "criterion = nn.MSELoss().to(device)\n",
        "\n",
        "Xtns = torch.from_numpy(data).float().to(device)\n",
        "Ytns = torch.from_numpy(target).float().to(device)\n",
        "\n",
        "print(Xtns.shape, Ytns.shape)"
      ],
      "metadata": {
        "colab": {
          "base_uri": "https://localhost:8080/"
        },
        "id": "-N1WnU0m5DEM",
        "outputId": "0396777f-52e9-4866-f40e-878dc91d135f"
      },
      "execution_count": null,
      "outputs": [
        {
          "output_type": "stream",
          "name": "stdout",
          "text": [
            "torch.Size([442, 10]) torch.Size([442])\n"
          ]
        }
      ]
    },
    {
      "cell_type": "code",
      "source": [
        "pred = net(Xtns)\n",
        "\n",
        "loss = criterion(pred.squeeze(), Ytns)\n",
        "print(loss.data)"
      ],
      "metadata": {
        "colab": {
          "base_uri": "https://localhost:8080/"
        },
        "id": "XdbhFqwV5uy6",
        "outputId": "74134db9-9806-4a10-e0d8-b2b9ae8b02ed"
      },
      "execution_count": null,
      "outputs": [
        {
          "output_type": "stream",
          "name": "stdout",
          "text": [
            "tensor(28771.2168, device='cuda:0')\n"
          ]
        },
        {
          "output_type": "stream",
          "name": "stderr",
          "text": [
            "/usr/local/lib/python3.10/dist-packages/torch/nn/modules/module.py:1736: UserWarning: Implicit dimension choice for softmax has been deprecated. Change the call to include dim=X as an argument.\n",
            "  return self._call_impl(*args, **kwargs)\n"
          ]
        }
      ]
    },
    {
      "cell_type": "markdown",
      "source": [
        "Using L1 Loss"
      ],
      "metadata": {
        "id": "T33sYx7478CB"
      }
    },
    {
      "cell_type": "code",
      "source": [
        "criterion = nn.L1Loss().to(device)\n",
        "\n",
        "lossL1 = criterion(pred.squeeze(), Ytns)\n",
        "print(lossL1.data)"
      ],
      "metadata": {
        "colab": {
          "base_uri": "https://localhost:8080/"
        },
        "id": "NDIeQO7e54ZV",
        "outputId": "68fd5746-a091-4a14-fbc6-4e233ea400f7"
      },
      "execution_count": null,
      "outputs": [
        {
          "output_type": "stream",
          "name": "stdout",
          "text": [
            "tensor(151.1335, device='cuda:0')\n"
          ]
        }
      ]
    }
  ]
}