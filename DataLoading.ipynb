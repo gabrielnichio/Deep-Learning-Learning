{
  "nbformat": 4,
  "nbformat_minor": 0,
  "metadata": {
    "colab": {
      "provenance": [],
      "gpuType": "T4",
      "authorship_tag": "ABX9TyM41q7x5J71cvDov5Ez4+6w",
      "include_colab_link": true
    },
    "kernelspec": {
      "name": "python3",
      "display_name": "Python 3"
    },
    "language_info": {
      "name": "python"
    },
    "accelerator": "GPU"
  },
  "cells": [
    {
      "cell_type": "markdown",
      "metadata": {
        "id": "view-in-github",
        "colab_type": "text"
      },
      "source": [
        "<a href=\"https://colab.research.google.com/github/gabrielnichio/Deep-Learning-Learning/blob/main/DataLoading.ipynb\" target=\"_parent\"><img src=\"https://colab.research.google.com/assets/colab-badge.svg\" alt=\"Open In Colab\"/></a>"
      ]
    },
    {
      "cell_type": "markdown",
      "source": [
        "# Working with image datasets from Pytorch"
      ],
      "metadata": {
        "id": "UWGZh2uKNk0b"
      }
    },
    {
      "cell_type": "code",
      "execution_count": 17,
      "metadata": {
        "id": "ol7fhB05NWrP"
      },
      "outputs": [],
      "source": [
        "import torch\n",
        "import numpy as np\n",
        "import time\n",
        "from torch import nn, optim\n",
        "from torchvision import datasets, transforms\n",
        "from torch.utils.data import DataLoader\n",
        "import matplotlib.pyplot as plt"
      ]
    },
    {
      "cell_type": "code",
      "source": [
        "args = {\n",
        "    'batch_size': 100,\n",
        "    'num_workers': 4,\n",
        "    'num_classes': 10,\n",
        "    'lr': 1e-4,\n",
        "    'weight_decay': 5e-4,\n",
        "    'num_epochs': 30\n",
        "}\n",
        "\n",
        "args['device'] = torch.device(\"cuda\" if torch.cuda.is_available() else \"cpu\")\n",
        "\n",
        "print(args['device'])"
      ],
      "metadata": {
        "colab": {
          "base_uri": "https://localhost:8080/"
        },
        "id": "MDpI6sWkN6iX",
        "outputId": "3be24ce0-12fd-44c2-b026-2ada87bb7897"
      },
      "execution_count": 18,
      "outputs": [
        {
          "output_type": "stream",
          "name": "stdout",
          "text": [
            "cuda\n"
          ]
        }
      ]
    },
    {
      "cell_type": "markdown",
      "source": [
        "## Loading the dataset\n",
        "Loading the data and transforming it to tensor."
      ],
      "metadata": {
        "id": "1O2Q1j4jP0OS"
      }
    },
    {
      "cell_type": "code",
      "source": [
        "train_set = datasets.MNIST('./', train=True, transform=transforms.ToTensor(), target_transform=None, download=True)\n",
        "test_set = datasets.MNIST('./', train=False, transform=transforms.ToTensor(), target_transform=None, download=False)"
      ],
      "metadata": {
        "colab": {
          "base_uri": "https://localhost:8080/"
        },
        "collapsed": true,
        "id": "Yg6BBS1eO5iI",
        "outputId": "982ebead-2e27-43fa-f5ff-b8fd387c4f98"
      },
      "execution_count": 3,
      "outputs": [
        {
          "output_type": "stream",
          "name": "stdout",
          "text": [
            "Downloading http://yann.lecun.com/exdb/mnist/train-images-idx3-ubyte.gz\n",
            "Failed to download (trying next):\n",
            "HTTP Error 403: Forbidden\n",
            "\n",
            "Downloading https://ossci-datasets.s3.amazonaws.com/mnist/train-images-idx3-ubyte.gz\n",
            "Downloading https://ossci-datasets.s3.amazonaws.com/mnist/train-images-idx3-ubyte.gz to ./MNIST/raw/train-images-idx3-ubyte.gz\n"
          ]
        },
        {
          "output_type": "stream",
          "name": "stderr",
          "text": [
            "100%|██████████| 9.91M/9.91M [00:00<00:00, 18.2MB/s]\n"
          ]
        },
        {
          "output_type": "stream",
          "name": "stdout",
          "text": [
            "Extracting ./MNIST/raw/train-images-idx3-ubyte.gz to ./MNIST/raw\n",
            "\n",
            "Downloading http://yann.lecun.com/exdb/mnist/train-labels-idx1-ubyte.gz\n",
            "Failed to download (trying next):\n",
            "HTTP Error 403: Forbidden\n",
            "\n",
            "Downloading https://ossci-datasets.s3.amazonaws.com/mnist/train-labels-idx1-ubyte.gz\n",
            "Downloading https://ossci-datasets.s3.amazonaws.com/mnist/train-labels-idx1-ubyte.gz to ./MNIST/raw/train-labels-idx1-ubyte.gz\n"
          ]
        },
        {
          "output_type": "stream",
          "name": "stderr",
          "text": [
            "100%|██████████| 28.9k/28.9k [00:00<00:00, 500kB/s]\n"
          ]
        },
        {
          "output_type": "stream",
          "name": "stdout",
          "text": [
            "Extracting ./MNIST/raw/train-labels-idx1-ubyte.gz to ./MNIST/raw\n",
            "\n",
            "Downloading http://yann.lecun.com/exdb/mnist/t10k-images-idx3-ubyte.gz\n",
            "Failed to download (trying next):\n",
            "HTTP Error 403: Forbidden\n",
            "\n",
            "Downloading https://ossci-datasets.s3.amazonaws.com/mnist/t10k-images-idx3-ubyte.gz\n",
            "Downloading https://ossci-datasets.s3.amazonaws.com/mnist/t10k-images-idx3-ubyte.gz to ./MNIST/raw/t10k-images-idx3-ubyte.gz\n"
          ]
        },
        {
          "output_type": "stream",
          "name": "stderr",
          "text": [
            "100%|██████████| 1.65M/1.65M [00:00<00:00, 4.54MB/s]\n"
          ]
        },
        {
          "output_type": "stream",
          "name": "stdout",
          "text": [
            "Extracting ./MNIST/raw/t10k-images-idx3-ubyte.gz to ./MNIST/raw\n",
            "\n",
            "Downloading http://yann.lecun.com/exdb/mnist/t10k-labels-idx1-ubyte.gz\n",
            "Failed to download (trying next):\n",
            "HTTP Error 403: Forbidden\n",
            "\n",
            "Downloading https://ossci-datasets.s3.amazonaws.com/mnist/t10k-labels-idx1-ubyte.gz\n",
            "Downloading https://ossci-datasets.s3.amazonaws.com/mnist/t10k-labels-idx1-ubyte.gz to ./MNIST/raw/t10k-labels-idx1-ubyte.gz\n"
          ]
        },
        {
          "output_type": "stream",
          "name": "stderr",
          "text": [
            "100%|██████████| 4.54k/4.54k [00:00<00:00, 3.12MB/s]"
          ]
        },
        {
          "output_type": "stream",
          "name": "stdout",
          "text": [
            "Extracting ./MNIST/raw/t10k-labels-idx1-ubyte.gz to ./MNIST/raw\n",
            "\n"
          ]
        },
        {
          "output_type": "stream",
          "name": "stderr",
          "text": [
            "\n"
          ]
        }
      ]
    },
    {
      "cell_type": "markdown",
      "source": [
        "Pytorch only load the dataset when required, i.e. when we iterate the dataset. This is a good resource because it doesn't require memory.\n",
        "\n",
        "1 -> Load the sample from dataset\n",
        "\n",
        "2 -> Apply the transformation"
      ],
      "metadata": {
        "id": "GwK42OwvSicn"
      }
    },
    {
      "cell_type": "code",
      "source": [
        "for i in range(3):\n",
        "  data, label = train_set[i]\n",
        "\n",
        "  plt.figure()\n",
        "  plt.imshow(data[0])\n",
        "  plt.title(label)"
      ],
      "metadata": {
        "colab": {
          "base_uri": "https://localhost:8080/",
          "height": 1000
        },
        "id": "RT3NgKqXRBV0",
        "outputId": "e14d1527-79aa-47ad-9879-5d419fd3a7d6"
      },
      "execution_count": 4,
      "outputs": [
        {
          "output_type": "display_data",
          "data": {
            "text/plain": [
              "<Figure size 640x480 with 1 Axes>"
            ],
            "image/png": "[encoded data removed]"
          },
          "metadata": {}
        },
        {
          "output_type": "display_data",
          "data": {
            "text/plain": [
              "<Figure size 640x480 with 1 Axes>"
            ],
            "image/png": "[encoded data removed]"
          },
          "metadata": {}
        },
        {
          "output_type": "display_data",
          "data": {
            "text/plain": [
              "<Figure size 640x480 with 1 Axes>"
            ],
            "image/png": "[encoded data removed]"
          },
          "metadata": {}
        }
      ]
    },
    {
      "cell_type": "markdown",
      "source": [
        "# Data Loader\n",
        "\n",
        "one of the most powerfull tolls in pytorch.\n",
        "\n",
        "loader = DataLoader(dataset, batch_size=4, shuffle=True, num_workers=4)\n",
        "\n",
        "- Batch management\n",
        "- Shuffle\n",
        "- Thread management"
      ],
      "metadata": {
        "id": "0MvtZG6qat7U"
      }
    },
    {
      "cell_type": "code",
      "source": [
        "train_loader = DataLoader(train_set, batch_size=args['batch_size'], shuffle=True, num_workers=args['num_workers'])\n",
        "test_loader = DataLoader(test_set, batch_size=args['batch_size'], shuffle=True, num_workers=args['num_workers'])"
      ],
      "metadata": {
        "id": "GY9XkWtwR6Ae"
      },
      "execution_count": 8,
      "outputs": []
    },
    {
      "cell_type": "markdown",
      "source": [
        "# MLP"
      ],
      "metadata": {
        "id": "UIZ1iOQZbX8L"
      }
    },
    {
      "cell_type": "code",
      "source": [
        "class MLP(nn.Module):\n",
        "\n",
        "  def __init__(self, input_size, hidden_size, out_size):\n",
        "    super(MLP, self).__init__()\n",
        "\n",
        "    self.features  = nn.Sequential(\n",
        "                      nn.Linear(input_size, hidden_size),\n",
        "                      nn.ReLU(),\n",
        "                      nn.Linear(hidden_size, hidden_size),\n",
        "                      nn.ReLU()\n",
        "                    )\n",
        "    self.out     = nn.Linear(hidden_size, out_size)\n",
        "    self.softmax = nn.Softmax()\n",
        "\n",
        "  def forward(self, X):\n",
        "\n",
        "    X = X.view(X.size(0), -1)\n",
        "\n",
        "    feature = self.features(X)\n",
        "    output  = self.softmax(self.out(feature))\n",
        "\n",
        "    return output\n",
        "\n",
        "input_size  = 28 * 28\n",
        "hidden_size = 128\n",
        "out_size    = 10 #classes\n",
        "\n",
        "torch.manual_seed(42)\n",
        "net = MLP(input_size, hidden_size, out_size).to(args['device']) #cast na GPU"
      ],
      "metadata": {
        "id": "cqTJwOufbAlT"
      },
      "execution_count": 9,
      "outputs": []
    },
    {
      "cell_type": "markdown",
      "source": [
        "# Loss and optimizer"
      ],
      "metadata": {
        "id": "bHf4FL1JcCw9"
      }
    },
    {
      "cell_type": "code",
      "source": [
        "criterion = nn.CrossEntropyLoss().to(args['device'])\n",
        "optimizer = optim.Adam(net.parameters(), lr=args['lr'], weight_decay=args['weight_decay'])"
      ],
      "metadata": {
        "id": "XEcAKxZPb-tD"
      },
      "execution_count": 12,
      "outputs": []
    },
    {
      "cell_type": "markdown",
      "source": [
        "# Training process"
      ],
      "metadata": {
        "id": "xSwAaJqEc6gk"
      }
    },
    {
      "cell_type": "code",
      "source": [
        "for epoch in range(args['num_epochs']):\n",
        "\n",
        "  epoch_loss = []\n",
        "\n",
        "  init = time.time()\n",
        "\n",
        "  for batch in train_loader:\n",
        "    data, label = batch\n",
        "\n",
        "    data = data.to(args['device'])\n",
        "    label = label.to(args['device'])\n",
        "\n",
        "    pred = net(data)\n",
        "    loss = criterion(pred, label)\n",
        "    epoch_loss.append(loss.cpu().data)\n",
        "\n",
        "    loss.backward()\n",
        "    optimizer.step()\n",
        "\n",
        "  end = time.time()\n",
        "  epoch_loss = np.asarray(epoch_loss)\n",
        "\n",
        "  print(f'Epoch: {epoch}, epoch_mean: {epoch_loss.mean():.2f}, epoch_std: {epoch_loss.std():.2f}, time: {init-end:.4f}')"
      ],
      "metadata": {
        "colab": {
          "base_uri": "https://localhost:8080/"
        },
        "id": "ammrYkhdc7zl",
        "outputId": "0c7be130-d6e7-4b38-a32d-d650344b60c2"
      },
      "execution_count": 19,
      "outputs": [
        {
          "output_type": "stream",
          "name": "stdout",
          "text": [
            "Epoch: 0, epoch_mean: 2.35, epoch_std: 0.07, time: -14.7216\n",
            "Epoch: 1, epoch_mean: 2.35, epoch_std: 0.07, time: -14.4806\n",
            "Epoch: 2, epoch_mean: 2.35, epoch_std: 0.07, time: -14.6700\n",
            "Epoch: 3, epoch_mean: 2.35, epoch_std: 0.07, time: -14.7188\n",
            "Epoch: 4, epoch_mean: 2.35, epoch_std: 0.07, time: -15.8085\n",
            "Epoch: 5, epoch_mean: 2.35, epoch_std: 0.07, time: -14.6060\n",
            "Epoch: 6, epoch_mean: 2.35, epoch_std: 0.07, time: -14.6300\n",
            "Epoch: 7, epoch_mean: 2.35, epoch_std: 0.07, time: -14.8267\n",
            "Epoch: 8, epoch_mean: 2.35, epoch_std: 0.07, time: -14.6893\n",
            "Epoch: 9, epoch_mean: 2.35, epoch_std: 0.07, time: -15.5098\n",
            "Epoch: 10, epoch_mean: 2.35, epoch_std: 0.07, time: -14.6722\n",
            "Epoch: 11, epoch_mean: 2.35, epoch_std: 0.07, time: -14.6682\n",
            "Epoch: 12, epoch_mean: 2.35, epoch_std: 0.07, time: -14.6137\n",
            "Epoch: 13, epoch_mean: 2.35, epoch_std: 0.07, time: -14.8392\n",
            "Epoch: 14, epoch_mean: 2.35, epoch_std: 0.07, time: -14.7126\n",
            "Epoch: 15, epoch_mean: 2.35, epoch_std: 0.07, time: -15.5038\n",
            "Epoch: 16, epoch_mean: 2.35, epoch_std: 0.07, time: -14.7807\n",
            "Epoch: 17, epoch_mean: 2.35, epoch_std: 0.07, time: -14.7953\n",
            "Epoch: 18, epoch_mean: 2.35, epoch_std: 0.07, time: -14.7298\n",
            "Epoch: 19, epoch_mean: 2.35, epoch_std: 0.07, time: -14.9023\n",
            "Epoch: 20, epoch_mean: 2.35, epoch_std: 0.07, time: -15.3048\n",
            "Epoch: 21, epoch_mean: 2.35, epoch_std: 0.07, time: -15.1631\n",
            "Epoch: 22, epoch_mean: 2.35, epoch_std: 0.07, time: -14.7880\n",
            "Epoch: 23, epoch_mean: 2.35, epoch_std: 0.07, time: -14.7454\n",
            "Epoch: 24, epoch_mean: 2.35, epoch_std: 0.07, time: -14.6253\n",
            "Epoch: 25, epoch_mean: 2.35, epoch_std: 0.07, time: -14.8686\n",
            "Epoch: 26, epoch_mean: 2.35, epoch_std: 0.07, time: -15.5328\n",
            "Epoch: 27, epoch_mean: 2.35, epoch_std: 0.07, time: -14.7428\n",
            "Epoch: 28, epoch_mean: 2.35, epoch_std: 0.07, time: -14.8313\n",
            "Epoch: 29, epoch_mean: 2.35, epoch_std: 0.07, time: -14.8541\n"
          ]
        }
      ]
    }
  ]
}